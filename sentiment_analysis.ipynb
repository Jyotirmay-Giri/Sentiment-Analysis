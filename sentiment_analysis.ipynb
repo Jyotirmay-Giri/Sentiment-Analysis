{
  "nbformat": 4,
  "nbformat_minor": 0,
  "metadata": {
    "accelerator": "GPU",
    "colab": {
      "name": "sentiment_analysis.ipynb",
      "provenance": [],
      "collapsed_sections": [],
      "machine_shape": "hm",
      "include_colab_link": true
    },
    "kernelspec": {
      "display_name": "Python 3",
      "language": "python",
      "name": "python3"
    },
    "language_info": {
      "codemirror_mode": {
        "name": "ipython",
        "version": 3
      },
      "file_extension": ".py",
      "mimetype": "text/x-python",
      "name": "python",
      "nbconvert_exporter": "python",
      "pygments_lexer": "ipython3",
      "version": "3.7.5"
    }
  },
  "cells": [
    {
      "cell_type": "markdown",
      "metadata": {
        "id": "view-in-github",
        "colab_type": "text"
      },
      "source": [
        "<a href=\"https://colab.research.google.com/github/Jyotirmay-Giri/Sentiment-Analysis/blob/main/sentiment_analysis.ipynb\" target=\"_parent\"><img src=\"https://colab.research.google.com/assets/colab-badge.svg\" alt=\"Open In Colab\"/></a>"
      ]
    },
    {
      "cell_type": "code",
      "metadata": {
        "id": "GjhGThIS4v6Y"
      },
      "source": [
        "# Load data\n",
        "import pandas as pd\n",
        "\n",
        "col_names = ['sentiment','id','date','query_string','user','text']\n",
        "data_path = 'training.1600000.processed.noemoticon.csv'\n",
        "\n",
        "review_data = pd.read_csv(data_path, header=None, names=col_names, encoding=\"ISO-8859-1\").sample(frac=1) # .sample(frac=1) shuffles the data\n",
        "review_data = tweet_data[['sentiment', 'text']] # Disregard other columns\n",
        "print(review_data.head())"
      ],
      "execution_count": null,
      "outputs": []
    },
    {
      "cell_type": "code",
      "metadata": {
        "id": "tUX3YexFy_kz"
      },
      "source": [
        "# Preprocess function\n",
        "import re\n",
        "allowed_chars = ' AaBbCcDdEeFfGgHhIiJjKkLlMmNnOoPpQqRrSsTtUuVvWwXxYyZz0123456789~`!@#$%^&*()-=_+[]{}|;:\",./<>?'\n",
        "punct = '!?,.@#'\n",
        "maxlen = 280\n",
        "\n",
        "def preprocess(text):\n",
        "    return ''.join([' ' + char + ' ' if char in punct else char for char in [char for char in re.sub(r'http\\S+', 'http', text, flags=re.MULTILINE) if char in allowed_chars]])[:maxlen]"
      ],
      "execution_count": null,
      "outputs": []
    },
    {
      "cell_type": "code",
      "metadata": {
        "id": "YikQOPdG4v6e"
      },
      "source": [
        "# Apply preprocessing\n",
        "review_data['text'] = review_data['text'].apply(preprocess)"
      ],
      "execution_count": null,
      "outputs": []
    },
    {
      "cell_type": "code",
      "metadata": {
        "id": "0V01kYFa4v6f"
      },
      "source": [
        "# Put __label__ in front of each sentiment\n",
        "review_data['sentiment'] = '__label__' + review_data['sentiment'].astype(str)"
      ],
      "execution_count": null,
      "outputs": []
    },
    {
      "cell_type": "code",
      "metadata": {
        "id": "teQJsIJay_k1"
      },
      "source": [
        "# Save data\n",
        "import os\n",
        "\n",
        "# Create directory for saving data if it does not already exist\n",
        "data_dir = './processed-data'\n",
        "if not os.path.isdir(data_dir):\n",
        "    os.mkdir(data_dir)\n",
        "\n",
        "# Save a percentage of the data (you could also only load a fraction of the data instead)\n",
        "amount = 0.125\n",
        "\n",
        "review_data.iloc[0:int(len(review_data)*0.8*amount)].to_csv(data_dir + '/train.csv', sep='\\t', index=False, header=False)\n",
        "review_data.iloc[int(len(review_data)*0.8*amount):int(len(tweet_data)*0.9*amount)].to_csv(data_dir + '/test.csv', sep='\\t', index=False, header=False)\n",
        "review_data.iloc[int(len(review_data)*0.9*amount):int(len(tweet_data)*1.0*amount)].to_csv(data_dir + '/dev.csv', sep='\\t', index=False, header=False)"
      ],
      "execution_count": null,
      "outputs": []
    },
    {
      "cell_type": "code",
      "metadata": {
        "id": "CRbruBmilCOt"
      },
      "source": [
        "# Memory management\n",
        "del review_data\n",
        "import gc; gc.collect()"
      ],
      "execution_count": null,
      "outputs": []
    },
    {
      "cell_type": "code",
      "metadata": {
        "id": "BR5iIWRgy_k5"
      },
      "source": [
        "# Load the data into Corpus format\n",
        "from flair.data_fetcher import NLPTaskDataFetcher\n",
        "from pathlib import Path\n",
        "\n",
        "corpus = NLPTaskDataFetcher.load_classification_corpus(Path(data_dir), test_file='test.csv', dev_file='dev.csv', train_file='train.csv')"
      ],
      "execution_count": null,
      "outputs": []
    },
    {
      "cell_type": "code",
      "metadata": {
        "id": "_6XPFKdqy_k7"
      },
      "source": [
        "# Make label dictionary\n",
        "label_dict = corpus.make_label_dictionary()"
      ],
      "execution_count": null,
      "outputs": []
    },
    {
      "cell_type": "code",
      "metadata": {
        "id": "f-nIq7k6y_k9"
      },
      "source": [
        "# Load embeddings\n",
        "from flair.embeddings import WordEmbeddings, FlairEmbeddings\n",
        "\n",
        "word_embeddings = [WordEmbeddings('glove'),\n",
        "#                    FlairEmbeddings('news-forward'),\n",
        "#                    FlairEmbeddings('news-backward')\n",
        "                  ]"
      ],
      "execution_count": null,
      "outputs": []
    },
    {
      "cell_type": "code",
      "metadata": {
        "id": "WiVHs1aRy_k_"
      },
      "source": [
        "# Initialize embeddings\n",
        "from flair.embeddings import DocumentRNNEmbeddings\n",
        "\n",
        "document_embeddings = DocumentRNNEmbeddings(word_embeddings, hidden_size=512, reproject_words=True, reproject_words_dimension=256)"
      ],
      "execution_count": null,
      "outputs": []
    },
    {
      "cell_type": "code",
      "metadata": {
        "id": "y7x4mV67BPAh"
      },
      "source": [
        "# Create model\n",
        "from flair.models import TextClassifier\n",
        "\n",
        "classifier = TextClassifier(document_embeddings, label_dictionary=label_dict)"
      ],
      "execution_count": null,
      "outputs": []
    },
    {
      "cell_type": "code",
      "metadata": {
        "id": "TRCGx_VdA-5F"
      },
      "source": [
        "# Create model trainer\n",
        "from flair.trainers import ModelTrainer\n",
        "\n",
        "trainer = ModelTrainer(classifier, corpus)"
      ],
      "execution_count": null,
      "outputs": []
    },
    {
      "cell_type": "code",
      "metadata": {
        "id": "AHgC91YoA-2J",
        "scrolled": true
      },
      "source": [
        "# Train the model\n",
        "trainer.train('model-saves',\n",
        "              learning_rate=0.1,\n",
        "              mini_batch_size=32,\n",
        "              anneal_factor=0.5,\n",
        "              patience=8,\n",
        "              max_epochs=200)"
      ],
      "execution_count": null,
      "outputs": []
    },
    {
      "cell_type": "code",
      "metadata": {
        "id": "ozdqd8KiA-zZ"
      },
      "source": [
        "# Load the model and make predictions\n",
        "from flair.data import Sentence\n",
        "\n",
        "classifier = TextClassifier.load('model-saves/final-model.pt')\n",
        "\n",
        "pos_sentence = Sentence(preprocess('I love Python!'))\n",
        "neg_sentence = Sentence(preprocess('Python is the worst!'))\n",
        "\n",
        "classifier.predict(pos_sentence)\n",
        "classifier.predict(neg_sentence)\n",
        "\n",
        "print(pos_sentence.labels, neg_sentence.labels)"
      ],
      "execution_count": null,
      "outputs": []
    }
  ]
}